{
 "cells": [
  {
   "cell_type": "code",
   "execution_count": 15,
   "id": "ad837183",
   "metadata": {},
   "outputs": [],
   "source": [
    "#insert dependencies\n",
    "%matplotlib inline\n",
    "from matplotlib import style\n",
    "style.use('fivethirtyeight')\n",
    "import matplotlib.pyplot as plt\n",
    "import numpy as np\n",
    "import pandas as pd\n",
    "import datetime as dt\n",
    "import matplotlib.dates as mdates"
   ]
  },
  {
   "cell_type": "markdown",
   "id": "22d3e448",
   "metadata": {},
   "source": [
    "#  Reflect Tables into SQLAlchemy ORM"
   ]
  },
  {
   "cell_type": "code",
   "execution_count": 2,
   "id": "891ba65d",
   "metadata": {},
   "outputs": [],
   "source": [
    " # Import Python SQL toolkit and Object Relational Mapper\n",
    "import sqlalchemy\n",
    "from sqlalchemy.ext.automap import automap_base\n",
    "from sqlalchemy.orm import Session\n",
    "from sqlalchemy import create_engine, func, inspect"
   ]
  },
  {
   "cell_type": "code",
   "execution_count": 3,
   "id": "8f336ce5",
   "metadata": {},
   "outputs": [],
   "source": [
    " # create engine to hawaii.sqlite\n",
    "engine = create_engine(\"sqlite:///../Resources/hawaii.sqlite\")"
   ]
  },
  {
   "cell_type": "code",
   "execution_count": 4,
   "id": "1a327f8f",
   "metadata": {},
   "outputs": [],
   "source": [
    "# reflect an existing database into a new model\n",
    "Base = automap_base()\n",
    "\n",
    "# reflect the tables\n",
    "Base.prepare(autoload_with=engine)"
   ]
  },
  {
   "cell_type": "code",
   "execution_count": 5,
   "id": "703f23b2",
   "metadata": {},
   "outputs": [
    {
     "data": {
      "text/plain": [
       "['measurement', 'station']"
      ]
     },
     "execution_count": 5,
     "metadata": {},
     "output_type": "execute_result"
    }
   ],
   "source": [
    "#View autobase classes\n",
    "Base.classes.keys()"
   ]
  },
  {
   "cell_type": "code",
   "execution_count": 6,
   "id": "936f702f",
   "metadata": {},
   "outputs": [],
   "source": [
    "# Save references to each table\n",
    "Measurement = Base.classes.measurement\n",
    "Station = Base.classes.station\n",
    "# Create the session link from Python to the DB\n",
    "session = Session(engine)\n"
   ]
  },
  {
   "cell_type": "markdown",
   "id": "d31e7359",
   "metadata": {},
   "source": [
    "# Exploratory Precipitation Analysis"
   ]
  },
  {
   "cell_type": "code",
   "execution_count": 7,
   "id": "3150d96e",
   "metadata": {},
   "outputs": [
    {
     "name": "stdout",
     "output_type": "stream",
     "text": [
      "2017-08-23\n"
     ]
    }
   ],
   "source": [
    "#Determine the most recent date in the data set.\n",
    "most_recent = session.query(Measurement).order_by(Measurement.date.desc()).first()\n",
    "print(most_recent.date)\n"
   ]
  },
  {
   "cell_type": "code",
   "execution_count": 18,
   "id": "a92909c3",
   "metadata": {},
   "outputs": [
    {
     "data": {
      "image/png": "[encoded data removed]",
      "text/plain": [
       "<Figure size 640x480 with 1 Axes>"
      ]
     },
     "metadata": {},
     "output_type": "display_data"
    }
   ],
   "source": [
    "# Design a query to retrieve the last 12 months of precipitation data and plot the results. \n",
    "# Starting from the most recent data point in the database. \n",
    "last_date = dt.date(2017, 8, 23)\n",
    "# Calculate the date one year from the last date in data set.\n",
    "one_year = last_date - dt.timedelta(days=365)\n",
    "one_year\n",
    "\n",
    "# Perform a query to retrieve the data and precipitation scores\n",
    "sel = [Measurement.date, func.max(Measurement.prcp)]\n",
    "precip_data = session.query(*sel).\\\n",
    "    filter(func.date(Measurement.date) <= \"2017-08-23\").\\\n",
    "    filter(func.date(Measurement.date) >= \"2016-08-23\").\\\n",
    "    group_by(Measurement.date).\\\n",
    "    order_by(Measurement.date).all()\n",
    "\n",
    "# Save the query results as a Pandas DataFrame. Explicitly set the column names\n",
    "precip_df = pd.DataFrame(precip_data, columns=['Date', 'Precipitation'])\n",
    "\n",
    "# Sort the dataframe by date\n",
    "precip_df = precip_df.sort_values(\"Date\")\n",
    "\n",
    "#Use Pandas Plotting with Matplotlib to plot the data.\n",
    "\n",
    "tick_one = precip_df.index[precip_df['Date']=='2016-08-23'].tolist()\n",
    "tick_two = precip_df.index[precip_df['Date']=='2016-11-09'].tolist()\n",
    "tick_three = precip_df.index[precip_df['Date']=='2017-01-28'].tolist()\n",
    "tick_four = precip_df.index[precip_df['Date']=='2017-04-18'].tolist()\n",
    "tick_five = precip_df.index[precip_df['Date']=='2017-07-10'].tolist()\n",
    "\n",
    "precip_df.plot.bar()\n",
    "tick_indices = sum([tick_one, tick_two, tick_three, tick_four, tick_five], [])\n",
    "tick_dates = pd.to_datetime(['2016-08-23', '2016-11-09', '2017-01-28', '2017-04-18', '2017-07-10'])\n",
    "tick_labels = [date.strftime('%Y-%m-%d') for date in tick_dates]\n",
    "plt.xticks(tick_indices, tick_labels)\n",
    "plt.ylim(0, 7)\n",
    "plt.xlabel('Date')\n",
    "plt.ylabel('Inches')\n",
    "plt.tight_layout()\n",
    "plt.show()\n",
    "\n",
    "\n"
   ]
  },
  {
   "cell_type": "code",
   "execution_count": 10,
   "id": "7e4f50c9",
   "metadata": {},
   "outputs": [
    {
     "data": {
      "text/html": [
       "<div>\n",
       "<style scoped>\n",
       "    .dataframe tbody tr th:only-of-type {\n",
       "        vertical-align: middle;\n",
       "    }\n",
       "\n",
       "    .dataframe tbody tr th {\n",
       "        vertical-align: top;\n",
       "    }\n",
       "\n",
       "    .dataframe thead th {\n",
       "        text-align: right;\n",
       "    }\n",
       "</style>\n",
       "<table border=\"1\" class=\"dataframe\">\n",
       "  <thead>\n",
       "    <tr style=\"text-align: right;\">\n",
       "      <th></th>\n",
       "      <th>Precipitation</th>\n",
       "    </tr>\n",
       "  </thead>\n",
       "  <tbody>\n",
       "    <tr>\n",
       "      <th>count</th>\n",
       "      <td>2021.000000</td>\n",
       "    </tr>\n",
       "    <tr>\n",
       "      <th>mean</th>\n",
       "      <td>0.177279</td>\n",
       "    </tr>\n",
       "    <tr>\n",
       "      <th>std</th>\n",
       "      <td>0.461190</td>\n",
       "    </tr>\n",
       "    <tr>\n",
       "      <th>min</th>\n",
       "      <td>0.000000</td>\n",
       "    </tr>\n",
       "    <tr>\n",
       "      <th>25%</th>\n",
       "      <td>0.000000</td>\n",
       "    </tr>\n",
       "    <tr>\n",
       "      <th>50%</th>\n",
       "      <td>0.020000</td>\n",
       "    </tr>\n",
       "    <tr>\n",
       "      <th>75%</th>\n",
       "      <td>0.130000</td>\n",
       "    </tr>\n",
       "    <tr>\n",
       "      <th>max</th>\n",
       "      <td>6.700000</td>\n",
       "    </tr>\n",
       "  </tbody>\n",
       "</table>\n",
       "</div>"
      ],
      "text/plain": [
       "       Precipitation\n",
       "count    2021.000000\n",
       "mean        0.177279\n",
       "std         0.461190\n",
       "min         0.000000\n",
       "25%         0.000000\n",
       "50%         0.020000\n",
       "75%         0.130000\n",
       "max         6.700000"
      ]
     },
     "execution_count": 10,
     "metadata": {},
     "output_type": "execute_result"
    }
   ],
   "source": [
    "#find the summary statistics of the precipitation column and imbed them in a table\n",
    "sel = [Measurement.date, Measurement.prcp]\n",
    "total_precip_data = session.query(*sel).\\\n",
    "    filter(func.date(Measurement.date) <= last_date).\\\n",
    "    filter(func.date(Measurement.date) >= one_year).\\\n",
    "    filter(Measurement.prcp != None).\\\n",
    "    order_by(Measurement.date).all()\n",
    "\n",
    "total_precip_df = pd.DataFrame(total_precip_data, columns=['Date', 'Precipitation'])\n",
    "summary_stat = total_precip_df['Precipitation'].describe()\n",
    "summary_stat_df = pd.DataFrame(summary_stat, columns=['Precipitation'])\n",
    "summary_stat_df"
   ]
  },
  {
   "cell_type": "code",
   "execution_count": 11,
   "id": "33de0ba2",
   "metadata": {},
   "outputs": [
    {
     "data": {
      "text/plain": [
       "9"
      ]
     },
     "execution_count": 11,
     "metadata": {},
     "output_type": "execute_result"
    }
   ],
   "source": [
    "# Design a query to calculate the total number of stations in the dataset\n",
    "stations = session.query(Station.station).count()\n",
    "stations"
   ]
  },
  {
   "cell_type": "code",
   "execution_count": 12,
   "id": "01560d39",
   "metadata": {},
   "outputs": [
    {
     "data": {
      "text/plain": [
       "[('USC00519281', 2772),\n",
       " ('USC00519397', 2724),\n",
       " ('USC00513117', 2709),\n",
       " ('USC00519523', 2669),\n",
       " ('USC00516128', 2612),\n",
       " ('USC00514830', 2202),\n",
       " ('USC00511918', 1979),\n",
       " ('USC00517948', 1372),\n",
       " ('USC00518838', 511)]"
      ]
     },
     "execution_count": 12,
     "metadata": {},
     "output_type": "execute_result"
    }
   ],
   "source": [
    " # Design a query to find the most active stations (i.e. which stations have the most rows?)\n",
    "# List the stations and their counts in descending order.\n",
    "station_count = session.query(Measurement.station, func.count(Measurement.station)).\\\n",
    "    group_by(Measurement.station).\\\n",
    "    order_by(func.count(Measurement.station).desc()).\\\n",
    "    all()\n",
    "station_count"
   ]
  },
  {
   "cell_type": "code",
   "execution_count": 43,
   "id": "7e94ac60",
   "metadata": {},
   "outputs": [
    {
     "name": "stdout",
     "output_type": "stream",
     "text": [
      "[(54.0, 85.0, 71.66378066378067)]\n"
     ]
    }
   ],
   "source": [
    "# Using the most active station id from the previous query, calculate the lowest, highest, and average temperature.\n",
    "most_active = 'USC00519281'\n",
    "active_station = session.query(func.min(Measurement.tobs), func.max(Measurement.tobs), func.avg(Measurement.tobs)).\\\n",
    "    filter(Measurement.station == most_active).\\\n",
    "    all()\n",
    "print(active_station)\n"
   ]
  },
  {
   "cell_type": "code",
   "execution_count": 21,
   "id": "503c95b2",
   "metadata": {},
   "outputs": [
    {
     "data": {
      "image/png": "[encoded data removed]",
      "text/plain": [
       "<Figure size 640x480 with 1 Axes>"
      ]
     },
     "metadata": {},
     "output_type": "display_data"
    }
   ],
   "source": [
    "# Using the most active station id\n",
    "# Query the last 12 months of temperature observation data for this station and plot the results as a histogram\n",
    "last_date = dt.date(2017, 8, 23)\n",
    "one_year = last_date - dt.timedelta(days=365)\n",
    "sel = [Measurement.date, func.avg(Measurement.tobs)]\n",
    "temp_data = session.query(*sel).\\\n",
    "    filter(func.date(Measurement.date) <= \"2017-08-23\").\\\n",
    "    filter(func.date(Measurement.date) >= \"2016-08-23\").\\\n",
    "    group_by(Measurement.date).\\\n",
    "    order_by(Measurement.date).all()\n",
    "temp_df = pd.DataFrame(temp_data, columns=['Date', 'Temperature'])\n",
    "\n",
    "#Plot the data as a histogram\n",
    "x_axis = len(temp_df['Date'])\n",
    "y_axis = temp_df['Temperature']\n",
    "ax = plt.subplot()\n",
    "ax.hist(y_axis, bins = 12)\n",
    "plt.show()"
   ]
  },
  {
   "cell_type": "markdown",
   "id": "bdc4bd93",
   "metadata": {},
   "source": [
    "# Close Session"
   ]
  },
  {
   "cell_type": "code",
   "execution_count": 22,
   "id": "491a55cf",
   "metadata": {},
   "outputs": [],
   "source": [
    "# Close the session\n",
    "session.close()"
   ]
  },
  {
   "cell_type": "code",
   "execution_count": null,
   "id": "30674477",
   "metadata": {},
   "outputs": [],
   "source": []
  }
 ],
 "metadata": {
  "kernelspec": {
   "display_name": "Python 3 (ipykernel)",
   "language": "python",
   "name": "python3"
  },
  "language_info": {
   "codemirror_mode": {
    "name": "ipython",
    "version": 3
   },
   "file_extension": ".py",
   "mimetype": "text/x-python",
   "name": "python",
   "nbconvert_exporter": "python",
   "pygments_lexer": "ipython3",
   "version": "3.10.11"
  }
 },
 "nbformat": 4,
 "nbformat_minor": 5
}
